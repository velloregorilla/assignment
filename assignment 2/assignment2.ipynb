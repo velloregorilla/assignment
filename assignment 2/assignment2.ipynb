{
  "cells": [
    {
      "cell_type": "markdown",
      "metadata": {
        "id": "4mfQh0Uto7L9"
      },
      "source": [
        "Detect and locate tables inside a page using DNN, then parse the table to extract a dataframe that\n",
        "should not lose any information and structure of the table. The output should be an excel file\n",
        "containing the extracted table.\n",
        "The solution should be a general solution that can work on different pages of different PDFs.\n",
        "\n",
        "\n",
        "Resources & Hints\n",
        "Camelot-py – Table parsing library\n",
        "Cascadetabnet – A pre-trained DNN for table detection available on github\n",
        "\n",
        "\n",
        "Submission\n",
        "Create a github repo, upload the code and the generated output excel along with requirements.txt\n",
        "and share the link.\n",
        "\n"
      ]
    },
    {
      "cell_type": "markdown",
      "metadata": {
        "id": "dyCTZ61unxWp"
      },
      "source": [
        "Approach 1 "
      ]
    },
    {
      "cell_type": "code",
      "execution_count": 1,
      "metadata": {
        "colab": {
          "base_uri": "https://localhost:8080/"
        },
        "id": "5lSoNWu2xB3j",
        "outputId": "e60bef14-057f-4eee-bf71-4947c8427860"
      },
      "outputs": [
        {
          "name": "stdout",
          "output_type": "stream",
          "text": [
            "\u001b[?25l\r\u001b[K     |████████                        | 10 kB 916 kB/s eta 0:00:01\r\u001b[K     |████████████████                | 20 kB 1.8 MB/s eta 0:00:01\r\u001b[K     |████████████████████████        | 30 kB 2.7 MB/s eta 0:00:01\r\u001b[K     |████████████████████████████████| 40 kB 3.5 MB/s eta 0:00:01\r\u001b[K     |████████████████████████████████| 40 kB 35 kB/s \n",
            "\u001b[K     |████████████████████████████████| 77 kB 6.0 MB/s \n",
            "\u001b[K     |████████████████████████████████| 5.6 MB 27.2 MB/s \n",
            "\u001b[K     |████████████████████████████████| 11.7 MB 18.9 MB/s \n",
            "\u001b[K     |████████████████████████████████| 3.6 MB 50.5 MB/s \n",
            "\u001b[?25h  Building wheel for PyPDF2 (setup.py) ... \u001b[?25l\u001b[?25hdone\n",
            "Reading package lists... Done\n",
            "Building dependency tree       \n",
            "Reading state information... Done\n",
            "The following additional packages will be installed:\n",
            "  fonts-droid-fallback fonts-noto-mono gsfonts libcupsfilters1 libcupsimage2\n",
            "  libgs9 libgs9-common libijs-0.35 libjbig2dec0 poppler-data\n",
            "Suggested packages:\n",
            "  fonts-noto ghostscript-x poppler-utils fonts-japanese-mincho\n",
            "  | fonts-ipafont-mincho fonts-japanese-gothic | fonts-ipafont-gothic\n",
            "  fonts-arphic-ukai fonts-arphic-uming fonts-nanum\n",
            "The following NEW packages will be installed:\n",
            "  fonts-droid-fallback fonts-noto-mono ghostscript gsfonts libcupsfilters1\n",
            "  libcupsimage2 libgs9 libgs9-common libijs-0.35 libjbig2dec0 poppler-data\n",
            "0 upgraded, 11 newly installed, 0 to remove and 37 not upgraded.\n",
            "Need to get 14.1 MB of archives.\n",
            "After this operation, 49.9 MB of additional disk space will be used.\n",
            "Get:1 http://archive.ubuntu.com/ubuntu bionic/main amd64 fonts-droid-fallback all 1:6.0.1r16-1.1 [1,805 kB]\n",
            "Get:2 http://archive.ubuntu.com/ubuntu bionic/main amd64 poppler-data all 0.4.8-2 [1,479 kB]\n",
            "Get:3 http://archive.ubuntu.com/ubuntu bionic/main amd64 fonts-noto-mono all 20171026-2 [75.5 kB]\n",
            "Get:4 http://archive.ubuntu.com/ubuntu bionic-updates/main amd64 libcupsimage2 amd64 2.2.7-1ubuntu2.8 [18.6 kB]\n",
            "Get:5 http://archive.ubuntu.com/ubuntu bionic/main amd64 libijs-0.35 amd64 0.35-13 [15.5 kB]\n",
            "Get:6 http://archive.ubuntu.com/ubuntu bionic/main amd64 libjbig2dec0 amd64 0.13-6 [55.9 kB]\n",
            "Ign:7 http://archive.ubuntu.com/ubuntu bionic-updates/main amd64 libgs9-common all 9.26~dfsg+0-0ubuntu0.18.04.14\n",
            "Ign:8 http://archive.ubuntu.com/ubuntu bionic-updates/main amd64 libgs9 amd64 9.26~dfsg+0-0ubuntu0.18.04.14\n",
            "Ign:9 http://archive.ubuntu.com/ubuntu bionic-updates/main amd64 ghostscript amd64 9.26~dfsg+0-0ubuntu0.18.04.14\n",
            "Get:10 http://archive.ubuntu.com/ubuntu bionic/main amd64 gsfonts all 1:8.11+urwcyr1.0.7~pre44-4.4 [3,120 kB]\n",
            "Get:11 http://archive.ubuntu.com/ubuntu bionic-updates/main amd64 libcupsfilters1 amd64 1.20.2-0ubuntu3.1 [108 kB]\n",
            "Err:7 http://security.ubuntu.com/ubuntu bionic-updates/main amd64 libgs9-common all 9.26~dfsg+0-0ubuntu0.18.04.14\n",
            "  404  Not Found [IP: 91.189.88.152 80]\n",
            "Err:8 http://security.ubuntu.com/ubuntu bionic-updates/main amd64 libgs9 amd64 9.26~dfsg+0-0ubuntu0.18.04.14\n",
            "  404  Not Found [IP: 91.189.88.152 80]\n",
            "Err:9 http://security.ubuntu.com/ubuntu bionic-updates/main amd64 ghostscript amd64 9.26~dfsg+0-0ubuntu0.18.04.14\n",
            "  404  Not Found [IP: 91.189.88.152 80]\n",
            "Fetched 6,677 kB in 2s (3,542 kB/s)\n",
            "E: Failed to fetch http://security.ubuntu.com/ubuntu/pool/main/g/ghostscript/libgs9-common_9.26~dfsg+0-0ubuntu0.18.04.14_all.deb  404  Not Found [IP: 91.189.88.152 80]\n",
            "E: Failed to fetch http://security.ubuntu.com/ubuntu/pool/main/g/ghostscript/libgs9_9.26~dfsg+0-0ubuntu0.18.04.14_amd64.deb  404  Not Found [IP: 91.189.88.152 80]\n",
            "E: Failed to fetch http://security.ubuntu.com/ubuntu/pool/main/g/ghostscript/ghostscript_9.26~dfsg+0-0ubuntu0.18.04.14_amd64.deb  404  Not Found [IP: 91.189.88.152 80]\n",
            "E: Unable to fetch some archives, maybe run apt-get update or try with --fix-missing?\n",
            "Collecting pymupdf\n",
            "  Downloading PyMuPDF-1.19.4-cp37-cp37m-manylinux_2_17_x86_64.manylinux2014_x86_64.whl (8.7 MB)\n",
            "\u001b[K     |████████████████████████████████| 8.7 MB 8.4 MB/s \n",
            "\u001b[?25hInstalling collected packages: pymupdf\n",
            "Successfully installed pymupdf-1.19.4\n"
          ]
        }
      ],
      "source": [
        "!pip install \"camelot-py[cv]\" -q\n",
        "!apt-get install ghostscript\n",
        "!pip install pymupdf\n",
        "import camelot as cam"
      ]
    },
    {
      "cell_type": "code",
      "execution_count": 2,
      "metadata": {
        "colab": {
          "base_uri": "https://localhost:8080/"
        },
        "id": "OR3GwdbXzdSN",
        "outputId": "702d08bf-ec0e-4318-997a-9d7faa5c688d"
      },
      "outputs": [
        {
          "name": "stdout",
          "output_type": "stream",
          "text": [
            "Mounted at /content/drive\n"
          ]
        }
      ],
      "source": [
        "from google.colab import drive\n",
        "drive.mount('/content/drive')"
      ]
    },
    {
      "cell_type": "code",
      "execution_count": 4,
      "metadata": {
        "id": "fDK_E72hzvKY"
      },
      "outputs": [],
      "source": [
        "table = cam.read_pdf(\"/content/drive/MyDrive/keppel-corporation-limited-annual-report-2018.pdf\", \n",
        "                     pages = '69', flavor = 'stream')\n",
        "\n",
        "## multiple tables were detected, the 2nd table was the correct\n",
        "table[1].df.to_excel(\"/content/drive/MyDrive/A2.xls\")"
      ]
    },
    {
      "cell_type": "code",
      "execution_count": 6,
      "metadata": {
        "colab": {
          "base_uri": "https://localhost:8080/",
          "height": 489
        },
        "id": "TQ-MJ_Q80a5v",
        "outputId": "693c9138-04c9-4c08-91ca-f7fbb20bfa6e"
      },
      "outputs": [
        {
          "data": {
            "text/html": [
              "\n",
              "  <div id=\"df-6652aab3-4bf5-43be-89f5-ffd91409bd0b\">\n",
              "    <div class=\"colab-df-container\">\n",
              "      <div>\n",
              "<style scoped>\n",
              "    .dataframe tbody tr th:only-of-type {\n",
              "        vertical-align: middle;\n",
              "    }\n",
              "\n",
              "    .dataframe tbody tr th {\n",
              "        vertical-align: top;\n",
              "    }\n",
              "\n",
              "    .dataframe thead th {\n",
              "        text-align: right;\n",
              "    }\n",
              "</style>\n",
              "<table border=\"1\" class=\"dataframe\">\n",
              "  <thead>\n",
              "    <tr style=\"text-align: right;\">\n",
              "      <th></th>\n",
              "      <th>0</th>\n",
              "      <th>1</th>\n",
              "      <th>2</th>\n",
              "      <th>3</th>\n",
              "      <th>4</th>\n",
              "      <th>5</th>\n",
              "      <th>6</th>\n",
              "    </tr>\n",
              "  </thead>\n",
              "  <tbody>\n",
              "    <tr>\n",
              "      <th>0</th>\n",
              "      <td>Board and Committee Meetings and Attendance</td>\n",
              "      <td></td>\n",
              "      <td></td>\n",
              "      <td></td>\n",
              "      <td></td>\n",
              "      <td></td>\n",
              "      <td></td>\n",
              "    </tr>\n",
              "    <tr>\n",
              "      <th>1</th>\n",
              "      <td></td>\n",
              "      <td></td>\n",
              "      <td></td>\n",
              "      <td></td>\n",
              "      <td>Board Committee Meetings</td>\n",
              "      <td></td>\n",
              "      <td></td>\n",
              "    </tr>\n",
              "    <tr>\n",
              "      <th>2</th>\n",
              "      <td></td>\n",
              "      <td>Board Meetings</td>\n",
              "      <td>Audit</td>\n",
              "      <td>Nomination</td>\n",
              "      <td>Remuneration</td>\n",
              "      <td>Safety</td>\n",
              "      <td>Risk</td>\n",
              "    </tr>\n",
              "    <tr>\n",
              "      <th>3</th>\n",
              "      <td>Lee Boon Yang</td>\n",
              "      <td>11</td>\n",
              "      <td>–</td>\n",
              "      <td>3</td>\n",
              "      <td>4</td>\n",
              "      <td>4</td>\n",
              "      <td>–</td>\n",
              "    </tr>\n",
              "    <tr>\n",
              "      <th>4</th>\n",
              "      <td>Loh Chin Hua</td>\n",
              "      <td>11</td>\n",
              "      <td>–</td>\n",
              "      <td>–</td>\n",
              "      <td>–</td>\n",
              "      <td>4</td>\n",
              "      <td>–</td>\n",
              "    </tr>\n",
              "    <tr>\n",
              "      <th>5</th>\n",
              "      <td>Tow Heng Tan</td>\n",
              "      <td>8</td>\n",
              "      <td>–</td>\n",
              "      <td>3</td>\n",
              "      <td>2</td>\n",
              "      <td>–</td>\n",
              "      <td>4</td>\n",
              "    </tr>\n",
              "    <tr>\n",
              "      <th>6</th>\n",
              "      <td>Alvin Yeo Khirn Hai</td>\n",
              "      <td>9</td>\n",
              "      <td>5</td>\n",
              "      <td>1</td>\n",
              "      <td>–</td>\n",
              "      <td>–</td>\n",
              "      <td>–</td>\n",
              "    </tr>\n",
              "    <tr>\n",
              "      <th>7</th>\n",
              "      <td>Tan Ek Kia</td>\n",
              "      <td>9</td>\n",
              "      <td>5</td>\n",
              "      <td>–</td>\n",
              "      <td>–</td>\n",
              "      <td>4</td>\n",
              "      <td>4</td>\n",
              "    </tr>\n",
              "    <tr>\n",
              "      <th>8</th>\n",
              "      <td>Danny Teoh</td>\n",
              "      <td>10</td>\n",
              "      <td>5</td>\n",
              "      <td>–</td>\n",
              "      <td>4</td>\n",
              "      <td>–</td>\n",
              "      <td>4</td>\n",
              "    </tr>\n",
              "    <tr>\n",
              "      <th>9</th>\n",
              "      <td>Tan Puay Chiang1</td>\n",
              "      <td>10</td>\n",
              "      <td>–</td>\n",
              "      <td>3</td>\n",
              "      <td>–</td>\n",
              "      <td>4</td>\n",
              "      <td>4</td>\n",
              "    </tr>\n",
              "    <tr>\n",
              "      <th>10</th>\n",
              "      <td>Till Vestring</td>\n",
              "      <td>11</td>\n",
              "      <td>–</td>\n",
              "      <td>3</td>\n",
              "      <td>4</td>\n",
              "      <td>–</td>\n",
              "      <td>–</td>\n",
              "    </tr>\n",
              "    <tr>\n",
              "      <th>11</th>\n",
              "      <td>Veronica Eng</td>\n",
              "      <td>11</td>\n",
              "      <td>5</td>\n",
              "      <td>–</td>\n",
              "      <td>–</td>\n",
              "      <td>–</td>\n",
              "      <td>4</td>\n",
              "    </tr>\n",
              "    <tr>\n",
              "      <th>12</th>\n",
              "      <td>Jean-François Manzoni2</td>\n",
              "      <td>3 out of 3</td>\n",
              "      <td>–</td>\n",
              "      <td>–</td>\n",
              "      <td>–</td>\n",
              "      <td>–</td>\n",
              "      <td>–</td>\n",
              "    </tr>\n",
              "    <tr>\n",
              "      <th>13</th>\n",
              "      <td>No. of Meetings Held</td>\n",
              "      <td>11</td>\n",
              "      <td>5</td>\n",
              "      <td>3</td>\n",
              "      <td>4</td>\n",
              "      <td>4</td>\n",
              "      <td>4</td>\n",
              "    </tr>\n",
              "  </tbody>\n",
              "</table>\n",
              "</div>\n",
              "      <button class=\"colab-df-convert\" onclick=\"convertToInteractive('df-6652aab3-4bf5-43be-89f5-ffd91409bd0b')\"\n",
              "              title=\"Convert this dataframe to an interactive table.\"\n",
              "              style=\"display:none;\">\n",
              "        \n",
              "  <svg xmlns=\"http://www.w3.org/2000/svg\" height=\"24px\"viewBox=\"0 0 24 24\"\n",
              "       width=\"24px\">\n",
              "    <path d=\"M0 0h24v24H0V0z\" fill=\"none\"/>\n",
              "    <path d=\"M18.56 5.44l.94 2.06.94-2.06 2.06-.94-2.06-.94-.94-2.06-.94 2.06-2.06.94zm-11 1L8.5 8.5l.94-2.06 2.06-.94-2.06-.94L8.5 2.5l-.94 2.06-2.06.94zm10 10l.94 2.06.94-2.06 2.06-.94-2.06-.94-.94-2.06-.94 2.06-2.06.94z\"/><path d=\"M17.41 7.96l-1.37-1.37c-.4-.4-.92-.59-1.43-.59-.52 0-1.04.2-1.43.59L10.3 9.45l-7.72 7.72c-.78.78-.78 2.05 0 2.83L4 21.41c.39.39.9.59 1.41.59.51 0 1.02-.2 1.41-.59l7.78-7.78 2.81-2.81c.8-.78.8-2.07 0-2.86zM5.41 20L4 18.59l7.72-7.72 1.47 1.35L5.41 20z\"/>\n",
              "  </svg>\n",
              "      </button>\n",
              "      \n",
              "  <style>\n",
              "    .colab-df-container {\n",
              "      display:flex;\n",
              "      flex-wrap:wrap;\n",
              "      gap: 12px;\n",
              "    }\n",
              "\n",
              "    .colab-df-convert {\n",
              "      background-color: #E8F0FE;\n",
              "      border: none;\n",
              "      border-radius: 50%;\n",
              "      cursor: pointer;\n",
              "      display: none;\n",
              "      fill: #1967D2;\n",
              "      height: 32px;\n",
              "      padding: 0 0 0 0;\n",
              "      width: 32px;\n",
              "    }\n",
              "\n",
              "    .colab-df-convert:hover {\n",
              "      background-color: #E2EBFA;\n",
              "      box-shadow: 0px 1px 2px rgba(60, 64, 67, 0.3), 0px 1px 3px 1px rgba(60, 64, 67, 0.15);\n",
              "      fill: #174EA6;\n",
              "    }\n",
              "\n",
              "    [theme=dark] .colab-df-convert {\n",
              "      background-color: #3B4455;\n",
              "      fill: #D2E3FC;\n",
              "    }\n",
              "\n",
              "    [theme=dark] .colab-df-convert:hover {\n",
              "      background-color: #434B5C;\n",
              "      box-shadow: 0px 1px 3px 1px rgba(0, 0, 0, 0.15);\n",
              "      filter: drop-shadow(0px 1px 2px rgba(0, 0, 0, 0.3));\n",
              "      fill: #FFFFFF;\n",
              "    }\n",
              "  </style>\n",
              "\n",
              "      <script>\n",
              "        const buttonEl =\n",
              "          document.querySelector('#df-6652aab3-4bf5-43be-89f5-ffd91409bd0b button.colab-df-convert');\n",
              "        buttonEl.style.display =\n",
              "          google.colab.kernel.accessAllowed ? 'block' : 'none';\n",
              "\n",
              "        async function convertToInteractive(key) {\n",
              "          const element = document.querySelector('#df-6652aab3-4bf5-43be-89f5-ffd91409bd0b');\n",
              "          const dataTable =\n",
              "            await google.colab.kernel.invokeFunction('convertToInteractive',\n",
              "                                                     [key], {});\n",
              "          if (!dataTable) return;\n",
              "\n",
              "          const docLinkHtml = 'Like what you see? Visit the ' +\n",
              "            '<a target=\"_blank\" href=https://colab.research.google.com/notebooks/data_table.ipynb>data table notebook</a>'\n",
              "            + ' to learn more about interactive tables.';\n",
              "          element.innerHTML = '';\n",
              "          dataTable['output_type'] = 'display_data';\n",
              "          await google.colab.output.renderOutput(dataTable, element);\n",
              "          const docLink = document.createElement('div');\n",
              "          docLink.innerHTML = docLinkHtml;\n",
              "          element.appendChild(docLink);\n",
              "        }\n",
              "      </script>\n",
              "    </div>\n",
              "  </div>\n",
              "  "
            ],
            "text/plain": [
              "                                              0               1  ...       5     6\n",
              "0   Board and Committee Meetings and Attendance                  ...              \n",
              "1                                                                ...              \n",
              "2                                                Board Meetings  ...  Safety  Risk\n",
              "3                                 Lee Boon Yang              11  ...       4     –\n",
              "4                                  Loh Chin Hua              11  ...       4     –\n",
              "5                                  Tow Heng Tan               8  ...       –     4\n",
              "6                           Alvin Yeo Khirn Hai               9  ...       –     –\n",
              "7                                    Tan Ek Kia               9  ...       4     4\n",
              "8                                    Danny Teoh              10  ...       –     4\n",
              "9                              Tan Puay Chiang1              10  ...       4     4\n",
              "10                                Till Vestring              11  ...       –     –\n",
              "11                                 Veronica Eng              11  ...       –     4\n",
              "12                       Jean-François Manzoni2      3 out of 3  ...       –     –\n",
              "13                         No. of Meetings Held              11  ...       4     4\n",
              "\n",
              "[14 rows x 7 columns]"
            ]
          },
          "execution_count": 6,
          "metadata": {},
          "output_type": "execute_result"
        }
      ],
      "source": [
        "table[1].df"
      ]
    },
    {
      "cell_type": "code",
      "execution_count": null,
      "metadata": {
        "id": "Lkej7UqB0a8c"
      },
      "outputs": [],
      "source": []
    },
    {
      "cell_type": "markdown",
      "metadata": {
        "id": "ut0Zk9b7n4Qv"
      },
      "source": [
        "Approach 2 \n"
      ]
    },
    {
      "cell_type": "code",
      "execution_count": null,
      "metadata": {},
      "outputs": [],
      "source": []
    },
    {
      "cell_type": "code",
      "execution_count": null,
      "metadata": {},
      "outputs": [],
      "source": []
    },
    {
      "cell_type": "code",
      "execution_count": null,
      "metadata": {
        "id": "fuORPAocxB6u"
      },
      "outputs": [],
      "source": [
        "import fitz\n",
        "import cv2\n",
        "\n",
        "pdf = fitz.open(\"keppel-corporation-limited-annual-report-2018.pdf\")\n",
        "page = pdf.load_page(11)"
      ]
    },
    {
      "cell_type": "code",
      "execution_count": null,
      "metadata": {
        "id": "12-Rjx38MWEI"
      },
      "outputs": [],
      "source": [
        "!pip install -q torch==1.4.0+cu100 torchvision==0.5.0+cu100 -f https://download.pytorch.org/whl/torch_stable.html\n",
        "!pip install -q mmcv terminaltables\n",
        "!git clone --branch v1.2.0 'https://github.com/open-mmlab/mmdetection.git'\n",
        "%cd \"mmdetection\"\n",
        "!pip install -r \"/content/mmdetection/requirements/optional.txt\"\n",
        "!python setup.py install\n",
        "!python setup.py develop\n",
        "!pip install -r {\"requirements.txt\"}\n",
        "!pip -q install pillow==6.2.1 \n",
        "%cd \"/content\""
      ]
    },
    {
      "cell_type": "code",
      "execution_count": 5,
      "metadata": {
        "id": "q3mF1y43I22D"
      },
      "outputs": [],
      "source": [
        "get_ipython().system_raw('./ngrok http 8501 &')"
      ]
    },
    {
      "cell_type": "code",
      "execution_count": null,
      "metadata": {
        "id": "lmPEg5jAMZUr"
      },
      "outputs": [],
      "source": [
        "!git clone https://github.com/DevashishPrasad/CascadeTabNet.git"
      ]
    },
    {
      "cell_type": "code",
      "execution_count": null,
      "metadata": {
        "id": "zZHyE3V8IwcX"
      },
      "outputs": [],
      "source": [
        "!wget https://bin.equinox.io/c/4VmDzA7iaHb/ngrok-stable-linux-amd64.zip\n",
        "!unzip ngrok-stable-linux-amd64.zip"
      ]
    },
    {
      "cell_type": "code",
      "execution_count": null,
      "metadata": {
        "id": "VANRtjQ9Ira1"
      },
      "outputs": [],
      "source": [
        "!gdown \"https://drive.google.com/u/0/uc?id=1-QieHkR1Q7CXuBu4fp3rYrvDG9j26eFT\""
      ]
    },
    {
      "cell_type": "code",
      "execution_count": null,
      "metadata": {
        "id": "GH7ikGfEI7Kt"
      },
      "outputs": [],
      "source": [
        "!curl -s http://localhost:4040/api/tunnels | python3 -c \\\n",
        "    'import sys, json; print(\"Execute the next cell and the go to the following URL: \" +json.load(sys.stdin)[\"tunnels\"][0][\"public_url\"])'"
      ]
    },
    {
      "cell_type": "code",
      "execution_count": null,
      "metadata": {
        "id": "r1BdunxoU5_8"
      },
      "outputs": [],
      "source": [
        "!pip uninstall opencv-python-headless\n",
        "!pip install opencv-python-headless==4.1.2.30"
      ]
    },
    {
      "cell_type": "code",
      "execution_count": null,
      "metadata": {
        "id": "NBY1aJs2VmiY"
      },
      "outputs": [],
      "source": [
        "!rm -rf mmdetection\n",
        "!git clone https://github.com/open-mmlab/mmdetection.git\n",
        "%cd mmdetection\n",
        "\n",
        "!pip install -e .\n",
        "!pip -q install mmcv==1.4.3\n",
        "!pip install mmcv-full\n",
        "!pip install pymupdf"
      ]
    },
    {
      "cell_type": "code",
      "execution_count": null,
      "metadata": {
        "id": "sObWZKAGI7bo"
      },
      "outputs": [],
      "source": [
        "import mmcv\n",
        "import os\n",
        "import numpy as np\n",
        "from PIL import Image\n",
        "from mmdet.apis import init_detector, inference_detector, show_result_pyplot\n",
        "import Path\n",
        "\n",
        "\n",
        "config_file = '/content/CascadeTabNet/Config/cascade_mask_rcnn_hrnetv2p_w32_20e.py'\n",
        "checkpoint_file = '/content/epoch_36.pth'\n",
        "model = init_detector(config_file, checkpoint_file, device='cuda:0')\n"
      ]
    },
    {
      "cell_type": "markdown",
      "metadata": {
        "id": "bqMc25oumL7q"
      },
      "source": [
        "SETUP COMPLETE "
      ]
    },
    {
      "cell_type": "code",
      "execution_count": 5,
      "metadata": {
        "id": "qEnPL59TmYbc"
      },
      "outputs": [],
      "source": [
        "## convert page to image \n",
        "import fitz\n",
        "pdf = fitz.open(\"/content/drive/MyDrive/keppel-corporation-limited-annual-report-2018.pdf\")\n",
        "page = pdf.load_page(11)\n",
        "pix = page.get_pixmap()\n",
        "pix.save('/content/drive/MyDrive/output.png')"
      ]
    },
    {
      "cell_type": "code",
      "execution_count": null,
      "metadata": {
        "id": "BJEhGb6WUPSz"
      },
      "outputs": [],
      "source": [
        "file_loc = '/content/drive/MyDrive/output.png'\n",
        "result = inference_detector(model, file_loc)"
      ]
    }
  ],
  "metadata": {
    "accelerator": "GPU",
    "colab": {
      "collapsed_sections": [],
      "name": "assignment2.ipynb",
      "provenance": []
    },
    "kernelspec": {
      "display_name": "Python 3",
      "name": "python3"
    },
    "language_info": {
      "name": "python"
    }
  },
  "nbformat": 4,
  "nbformat_minor": 0
}
